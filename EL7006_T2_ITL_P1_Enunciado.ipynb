{
  "cells": [
    {
      "cell_type": "markdown",
      "metadata": {
        "id": "view-in-github",
        "colab_type": "text"
      },
      "source": [
        "<a href=\"https://colab.research.google.com/github/d4vidi4n/EL7006/blob/main/EL7006_T2_ITL_P1_Enunciado.ipynb\" target=\"_parent\"><img src=\"https://colab.research.google.com/assets/colab-badge.svg\" alt=\"Open In Colab\"/></a>"
      ]
    },
    {
      "cell_type": "markdown",
      "metadata": {
        "id": "hSMvB54yI1ge"
      },
      "source": [
        "<h1> <center> EL7006 - Tarea Nº2 <br /> Information-Theoretic Learning  </center> </h1>\n",
        "<h3> <center>Profesor: Pablo Estévez <br />\n",
        "Profesor Auxiliar: Jhon Intriago <br />\n",
        "Ayudantes: Sebastián Guzmán y Francisco Soto <br />\n",
        "<h3><center>Semestre: Primavera 2025 </center></h3>"
      ]
    },
    {
      "cell_type": "code",
      "source": [
        "import os\n",
        "os.chdir(r'D:\\RN\\Tarea_2_ITL')\n",
        "# print(os.getcwd())\n",
        "os.listdir(r'D:\\RN\\Tarea_2_ITL')"
      ],
      "metadata": {
        "colab": {
          "base_uri": "https://localhost:8080/"
        },
        "id": "AXX80sHEKqlT",
        "outputId": "e8b7b3b2-e6d5-42e2-a843-6b3e5f76d07d"
      },
      "execution_count": 7,
      "outputs": [
        {
          "output_type": "execute_result",
          "data": {
            "text/plain": [
              "['código base', 'images', 'README.md', 'Tarea_2_ITL']"
            ]
          },
          "metadata": {},
          "execution_count": 7
        }
      ]
    },
    {
      "cell_type": "markdown",
      "metadata": {
        "id": "0l5terFJI1gl"
      },
      "source": [
        "En esta tarea deberán contestar preguntas e implementar código relacionado a information-theoretic learning (ITL).\n",
        "\n",
        "Para entregar su tarea, suba a u-cursos un archivo zip que contenga los notebooks de los problemas 1 y 2, desarrollados con sus respuestas e implementaciones, junto con cualquier archivo adicional necesario para ejecutarlos. Sea claro en sus respuestas, y comente adecuadamente su código. No es necesario redactar un informe."
      ]
    },
    {
      "cell_type": "markdown",
      "metadata": {
        "id": "hsCf6zOjI1gm"
      },
      "source": [
        "<h1><center><u>Problema 1: Regresión por mínima entropía del error </u></center></h1>"
      ]
    },
    {
      "cell_type": "markdown",
      "metadata": {
        "id": "X3Ez3_XlI1gn"
      },
      "source": [
        "Considere un modelo  \n",
        "$$ f(x) = a x^2 + b x + c,$$\n",
        "$$ z(x) = f(x) + \\nu,$$\n",
        "donde $\\nu$ es la componente asociada al ruido y $z(x)$ son las observaciones ruidosas del modelo verdadero $f(x)$. La función de densidad de probabilidad (PDF) del ruido está dada por\n",
        "$$p_{\\nu}(\\nu) = 0.8 ~\\mathcal{N}(0,\\ 0.1) + 0.2 ~ \\mathcal{N}(10,\\ 0.1),$$\n",
        "que corresponde a una mezcla impulsiva de Gaussianas (modelo Middleton).\n",
        "\n",
        "Usted tiene a su disposición pares $\\{(x_i,\\ z_i)\\}_{i=1,\\ldots,N}$. El objetivo es entrenar un aproximador parámetrico $g(x;w)$ de parámetros $w$ para recuperar los parámetros reales del sistema ($a$, $b$ y $c$). Para este problema, es útil monitorear el error intrínseco (IEP) del regresor, dado por\n",
        "$$ \\mathrm{IEP} = \\frac{1}{N}\\sum_{i=1}^N(f(x_i) - g(x_i;w))^2.$$\n",
        "\n",
        "En el enfoque clásico, los parámetros $w$ del regresor se entrenan para minimizar el MSE. Es decir, se resuelve:\n",
        "$$ w^*_{MSE} = \\mathrm{arg}\\min_w \\frac{1}{N} \\sum_{i=1}^N (z_i-g(x_i;w)) ^ 2.$$\n",
        "\n",
        "En el marco ITL, el regresor se puede entrenar usando como criterio la Minimización de Entropía del Error (MEE). Esto es equivalente a maximizar el potencial de información, dado por\n",
        "$$\n",
        "\\widehat{V}(e) = \\frac{1}{N^2} \\sum_{i=1}^N \\sum_{j=1}^N G_{\\sigma}(e_i - e_j) = \\frac{1}{N^2} \\frac{1}{\\sqrt{2\\pi}\\sigma} \\sum_{i=1}^N \\sum_{j=1}^N \\exp \\left( -\\frac{(e_i - e_j)^2}{2\\sigma^2}\\right),\n",
        "$$\n",
        "donde $\\sigma$ es el ancho de banda del kernel Gaussiano y $e_i=z_i-g(x_i;w)$ es el error en la observación $i$-ésima. Es decir, se resuelve:\n",
        "$$ w^*_{MEE} = \\mathrm{arg}\\max_w \\widehat{V}(e).$$\n",
        "\n",
        "En este problema, usted implementar y entrenar regresores para optimizar los criterios MSE y MEE por gradiente descendente, y debe comparar la precisión con que $w^*_{MSE}$ y $w^*_{MEE}$ se ajustan a los parámetros reales del sistema. Para esto, se consideran dos escenarios: uno sin término constante ($c=0$) y otro con término costante ($c\\not=0$)."
      ]
    },
    {
      "cell_type": "code",
      "execution_count": 11,
      "metadata": {
        "id": "t9OgP8jBI1go"
      },
      "outputs": [],
      "source": [
        "import matplotlib.pylab as plt\n",
        "import numpy as np\n",
        "from sklearn.neighbors import KernelDensity\n",
        "%matplotlib inline"
      ]
    },
    {
      "cell_type": "markdown",
      "metadata": {
        "id": "J84oNRW7I1gq"
      },
      "source": [
        "<h2>Caso 1: Modelo sin término constante</h2>\n",
        "\n",
        "Considere el modelo dado por $a=-2$, $b=10$ y $c=0$. Para este modelo, considere el siguiente aproximador paramétrico\n",
        "$$ g(x;w) = w_2x^2 + w_1x.$$\n",
        "Es decir, el regresor tiene dos parámetros, $w_2$ y $w_1$, que buscan ajustar $a$ y $b$, respectivamente.\n",
        "\n",
        "A continuación, se generan $N=100$ muestras de $z$."
      ]
    },
    {
      "cell_type": "code",
      "execution_count": 19,
      "metadata": {
        "colab": {
          "base_uri": "https://localhost:8080/",
          "height": 333
        },
        "id": "XQOIbYTvI1gr",
        "outputId": "c4490fde-c456-468a-d0bb-6897c32d1f91"
      },
      "outputs": [
        {
          "output_type": "display_data",
          "data": {
            "text/plain": [
              "<Figure size 600x300 with 1 Axes>"
            ],
            "image/png": "[encoded data removed]"
          },
          "metadata": {}
        }
      ],
      "source": [
        "# Parameters of the quadratic model\n",
        "a = -2\n",
        "b = 10\n",
        "c = 0\n",
        "# Sample generation (Random but reproducible)\n",
        "N = 100\n",
        "x = np.linspace(-2.0, 2.0, num=N)\n",
        "fx = a * x ** 2 + b * x + c\n",
        "noise = 0.1 * np.random.RandomState(seed=0).randn(N,)\n",
        "noise[np.random.RandomState(seed=0).rand(N,) > 0.8] += 10.0\n",
        "z = fx + noise\n",
        "# Visualization\n",
        "fig, ax = plt.subplots(1, 1, figsize=(6, 3), dpi=100)\n",
        "ax.plot(x, fx, 'g-', label='True Model', linewidth=2)\n",
        "ax.plot(x, z, 'k.', label='Noisy Samples')\n",
        "ax.set_xlabel('x')\n",
        "ax.set_ylabel('z')\n",
        "ax.grid()\n",
        "ax.legend(loc='upper left', bbox_to_anchor=(1, 1))\n",
        "ax.set_title(\"z(x) using a=%s, b=%s and c=%s\" % (a, b, c))\n",
        "plt.show()"
      ]
    },
    {
      "cell_type": "markdown",
      "metadata": {
        "id": "lwZO5mZ3I1gs"
      },
      "source": [
        "<h2>Regresor con criterio MSE</h2>\n",
        "\n",
        "Implemente el regresor usando MSE como función de costo y gradiente descendente como optimizador, evaluando todas las muestras disponibles ($N=100$) en cada iteración. Los pesos $w$ se inicializan uniformemente en el intervalo (0,1).\n",
        "\n",
        "Instrucciones de programación:\n",
        "- Es libre de elegir la librería de su preferencia para implementar el regresor. Se recomienda Tensorflow o Pytorch. También puede implementar el regresor de forma manual con Numpy si así lo desea.\n",
        "- Debe implementar su regresor en una clase llamada \"QuadraticModelMSE_Case1\".\n",
        "- La clase debe implementar un método \"fit\" que recibe las entradas $x$, las observaciones $z$, y los valores verdaderos del modelo $f_x=f(x)$. Debe entrenar usando $(x,\\ z)$ y monitorear el error intrínseco (IEP) usando $f_x$. Al finalizar el entrenamiento, debe retornar la evolución del IEP a lo largo de las iteraciones.\n",
        "- La clase debe implementar un método \"get_weights\" para recuperar los parámetros ajustados $w^*_{MSE}$.\n",
        "- Es libre de implementar métodos adicionales si lo desea.\n",
        "\n",
        "Implemente su modelo en la siguiente celda. Sea ordenado y claro en su código. Comente adecuadamente. Elija nombres significativos para sus variables."
      ]
    },
    {
      "cell_type": "code",
      "source": [
        "# Sustituye esto:\n",
        "!pip install early-stopping-pytorch\n",
        "!pip install pytorch-ignite\n",
        "\n",
        "from ignite.handlers import EarlyStopping\n",
        "from ignite.metrics import Loss\n",
        "from early_stopping_pytorch import EarlyStopping"
      ],
      "metadata": {
        "colab": {
          "base_uri": "https://localhost:8080/"
        },
        "id": "wPan1o3x_upf",
        "outputId": "f790ec12-1dd7-4ebc-b943-652361a0cfb6"
      },
      "execution_count": 23,
      "outputs": [
        {
          "output_type": "stream",
          "name": "stdout",
          "text": [
            "Requirement already satisfied: early-stopping-pytorch in c:\\users\\jorge estrada\\appdata\\local\\programs\\python\\python313\\lib\\site-packages (1.0.10)\n",
            "Requirement already satisfied: numpy>=1.21 in c:\\users\\jorge estrada\\appdata\\local\\programs\\python\\python313\\lib\\site-packages (from early-stopping-pytorch) (2.2.5)\n",
            "Requirement already satisfied: torch>=1.9.0 in c:\\users\\jorge estrada\\appdata\\local\\programs\\python\\python313\\lib\\site-packages (from early-stopping-pytorch) (2.7.0+cu118)\n",
            "Requirement already satisfied: filelock in c:\\users\\jorge estrada\\appdata\\local\\programs\\python\\python313\\lib\\site-packages (from torch>=1.9.0->early-stopping-pytorch) (3.18.0)\n",
            "Requirement already satisfied: typing-extensions>=4.10.0 in c:\\users\\jorge estrada\\appdata\\local\\programs\\python\\python313\\lib\\site-packages (from torch>=1.9.0->early-stopping-pytorch) (4.13.2)\n",
            "Requirement already satisfied: sympy>=1.13.3 in c:\\users\\jorge estrada\\appdata\\local\\programs\\python\\python313\\lib\\site-packages (from torch>=1.9.0->early-stopping-pytorch) (1.14.0)\n",
            "Requirement already satisfied: networkx in c:\\users\\jorge estrada\\appdata\\local\\programs\\python\\python313\\lib\\site-packages (from torch>=1.9.0->early-stopping-pytorch) (3.4.2)\n",
            "Requirement already satisfied: jinja2 in c:\\users\\jorge estrada\\appdata\\local\\programs\\python\\python313\\lib\\site-packages (from torch>=1.9.0->early-stopping-pytorch) (3.1.6)\n",
            "Requirement already satisfied: fsspec in c:\\users\\jorge estrada\\appdata\\local\\programs\\python\\python313\\lib\\site-packages (from torch>=1.9.0->early-stopping-pytorch) (2025.3.2)\n",
            "Requirement already satisfied: setuptools in c:\\users\\jorge estrada\\appdata\\local\\programs\\python\\python313\\lib\\site-packages (from torch>=1.9.0->early-stopping-pytorch) (80.4.0)\n",
            "Requirement already satisfied: mpmath<1.4,>=1.1.0 in c:\\users\\jorge estrada\\appdata\\local\\programs\\python\\python313\\lib\\site-packages (from sympy>=1.13.3->torch>=1.9.0->early-stopping-pytorch) (1.3.0)\n",
            "Requirement already satisfied: MarkupSafe>=2.0 in c:\\users\\jorge estrada\\appdata\\local\\programs\\python\\python313\\lib\\site-packages (from jinja2->torch>=1.9.0->early-stopping-pytorch) (3.0.2)\n"
          ]
        },
        {
          "output_type": "stream",
          "name": "stderr",
          "text": [
            "\n",
            "[notice] A new release of pip is available: 25.0.1 -> 25.2\n",
            "[notice] To update, run: python.exe -m pip install --upgrade pip\n",
            "\n",
            "[notice] A new release of pip is available: 25.0.1 -> 25.2\n",
            "[notice] To update, run: python.exe -m pip install --upgrade pip\n"
          ]
        },
        {
          "output_type": "stream",
          "name": "stdout",
          "text": [
            "Requirement already satisfied: pytorch-ignite in c:\\users\\jorge estrada\\appdata\\local\\programs\\python\\python313\\lib\\site-packages (0.5.2)\n",
            "Requirement already satisfied: torch<3,>=1.3 in c:\\users\\jorge estrada\\appdata\\local\\programs\\python\\python313\\lib\\site-packages (from pytorch-ignite) (2.7.0+cu118)\n",
            "Requirement already satisfied: packaging in c:\\users\\jorge estrada\\appdata\\local\\programs\\python\\python313\\lib\\site-packages (from pytorch-ignite) (25.0)\n",
            "Requirement already satisfied: filelock in c:\\users\\jorge estrada\\appdata\\local\\programs\\python\\python313\\lib\\site-packages (from torch<3,>=1.3->pytorch-ignite) (3.18.0)\n",
            "Requirement already satisfied: typing-extensions>=4.10.0 in c:\\users\\jorge estrada\\appdata\\local\\programs\\python\\python313\\lib\\site-packages (from torch<3,>=1.3->pytorch-ignite) (4.13.2)\n",
            "Requirement already satisfied: sympy>=1.13.3 in c:\\users\\jorge estrada\\appdata\\local\\programs\\python\\python313\\lib\\site-packages (from torch<3,>=1.3->pytorch-ignite) (1.14.0)\n",
            "Requirement already satisfied: networkx in c:\\users\\jorge estrada\\appdata\\local\\programs\\python\\python313\\lib\\site-packages (from torch<3,>=1.3->pytorch-ignite) (3.4.2)\n",
            "Requirement already satisfied: jinja2 in c:\\users\\jorge estrada\\appdata\\local\\programs\\python\\python313\\lib\\site-packages (from torch<3,>=1.3->pytorch-ignite) (3.1.6)\n",
            "Requirement already satisfied: fsspec in c:\\users\\jorge estrada\\appdata\\local\\programs\\python\\python313\\lib\\site-packages (from torch<3,>=1.3->pytorch-ignite) (2025.3.2)\n",
            "Requirement already satisfied: setuptools in c:\\users\\jorge estrada\\appdata\\local\\programs\\python\\python313\\lib\\site-packages (from torch<3,>=1.3->pytorch-ignite) (80.4.0)\n",
            "Requirement already satisfied: mpmath<1.4,>=1.1.0 in c:\\users\\jorge estrada\\appdata\\local\\programs\\python\\python313\\lib\\site-packages (from sympy>=1.13.3->torch<3,>=1.3->pytorch-ignite) (1.3.0)\n",
            "Requirement already satisfied: MarkupSafe>=2.0 in c:\\users\\jorge estrada\\appdata\\local\\programs\\python\\python313\\lib\\site-packages (from jinja2->torch<3,>=1.3->pytorch-ignite) (3.0.2)\n"
          ]
        }
      ]
    },
    {
      "cell_type": "code",
      "source": [
        "import torch\n",
        "import torch.nn as nn\n",
        "\n",
        "device = torch.device('cuda')\n",
        "criterion = torch.nn.MSELoss()"
      ],
      "metadata": {
        "id": "L7xiHd2HArIc"
      },
      "execution_count": 31,
      "outputs": []
    },
    {
      "cell_type": "code",
      "execution_count": 119,
      "metadata": {
        "id": "sRkk_7-5I1gt"
      },
      "outputs": [],
      "source": [
        "class QuadraticModelMSE_Case1():\n",
        "    def __init__(self, learning_rate, n_iterations):\n",
        "        self.learning_rate = learning_rate\n",
        "        self.n_iterations = n_iterations\n",
        "        self.hidden_size = 24\n",
        "        self.input_size = 100\n",
        "        self.output_size = 2\n",
        "\n",
        "        # Weights initialized from Uniform(0, 1), random but reproducible\n",
        "        self.w1 = np.random.RandomState(seed=1).rand()\n",
        "        self.w2 = np.random.RandomState(seed=2).rand()\n",
        "\n",
        "        # --- Your code goes here ---\n",
        "        # Neural network Layers\n",
        "        self.input_layer = nn.Linear(self.input_size, self.hidden_size)\n",
        "        self.hidden_layer = nn.Linear(self.hidden_size, self.hidden_size)\n",
        "        self.output_layer = nn.Linear(self.hidden_size, self.output_size)\n",
        "\n",
        "        # Neural network\n",
        "        self.model = nn.Sequential(self.input_layer, nn.ReLU(),\n",
        "                                   self.hidden_layer, nn.ReLU(),\n",
        "                                   self.output_layer)\n",
        "\n",
        "        # Optimizer\n",
        "        self.optimizer = torch.optim.Adam(self.model.parameters(), lr=self.learning_rate, betas=(0.9, 0.999))\n",
        "\n",
        "    def fit(self, x, z, fx):\n",
        "        # --- Your code goes here ---\n",
        "        loss_train = []\n",
        "        loss_val = []\n",
        "        iep_curve = []\n",
        "\n",
        "        self.model.to(device)\n",
        "        # self.optimizer.to(device)\n",
        "\n",
        "        x = torch.from_numpy(x).float().to(device)\n",
        "        z = torch.from_numpy(z).float().to(device)\n",
        "        fx = torch.from_numpy(fx).float().to(device)\n",
        "\n",
        "        for i in range(self.n_iterations):\n",
        "            #Entrenamiento\n",
        "            self.model.train()\n",
        "\n",
        "            self.optimizer.zero_grad()\n",
        "\n",
        "            #Predicciones\n",
        "            output = self.model(x)\n",
        "\n",
        "            # w1 y w2 como promedio de toda la batch\n",
        "            self.w1 = output[0]\n",
        "            self.w2 = output[1]\n",
        "\n",
        "            # Polynomial prediction\n",
        "            pol_value_with_coefs_in_this_iteration = self.w2 * x**2 + self.w1 * x\n",
        "\n",
        "            #Loss backward\n",
        "            loss = criterion(pol_value_with_coefs_in_this_iteration, z)\n",
        "            loss.backward()\n",
        "\n",
        "            loss_train.append((criterion(pol_value_with_coefs_in_this_iteration, z)).item())\n",
        "            iep_curve.append((criterion(pol_value_with_coefs_in_this_iteration, fx)).item())\n",
        "\n",
        "            self.optimizer.step()\n",
        "\n",
        "            # Evaluación\n",
        "            with torch.no_grad():\n",
        "\n",
        "                self.model.eval()\n",
        "\n",
        "                output = self.model(x)\n",
        "\n",
        "                pol_value_with_coefs_in_this_iteration = self.w2*x**2 + self.w1*x\n",
        "\n",
        "                loss_val.append((criterion(pol_value_with_coefs_in_this_iteration, z)).item())\n",
        "\n",
        "        iep_curve = iep_curve\n",
        "        return iep_curve\n",
        "\n",
        "    def get_weights(self):\n",
        "        return self.w1.detach().cpu().item(), self.w2.detach().cpu().item()"
      ]
    },
    {
      "cell_type": "markdown",
      "metadata": {
        "id": "O21BO3w5I1gu"
      },
      "source": [
        "Con su modelo ya implementado, es hora de entrenar. Se solicita entrenar su modelo usando una tasa de aprendizaje 0.02 y 1000 iteraciones. Luego de entrenar su modelo, se reporta:\n",
        "- Los valores de los parámetros ajustados $w^*_{MSE}$, y su desviación porcentual con respecto a los parámetros intrínsecos del sistema.\n",
        "- El ajuste $g(x;w^*_{MSE})$ vs $x$ obtenido por el regresor comparado con las observaciones y el modelo real.\n",
        "- Evolución del error intrínseco (IEP).\n",
        "\n",
        "Considere estos resultados como referencia para comparar con el regresor MEE."
      ]
    },
    {
      "cell_type": "code",
      "execution_count": 128,
      "metadata": {
        "colab": {
          "base_uri": "https://localhost:8080/",
          "height": 465
        },
        "id": "7FVzmFpQI1gu",
        "outputId": "57d096db-a6e3-4e81-c9b9-c5e0d3163d87"
      },
      "outputs": [
        {
          "output_type": "stream",
          "name": "stdout",
          "text": [
            "9.74668025970459 -1.316920518875122\n"
          ]
        },
        {
          "output_type": "execute_result",
          "data": {
            "text/plain": [
              "[<matplotlib.lines.Line2D at 0x2092e5491d0>]"
            ]
          },
          "metadata": {},
          "execution_count": 128
        },
        {
          "output_type": "display_data",
          "data": {
            "text/plain": [
              "<Figure size 640x480 with 1 Axes>"
            ],
            "image/png": "[encoded data removed]"
          },
          "metadata": {}
        }
      ],
      "source": [
        "regressor = QuadraticModelMSE_Case1(0.02, 100)\n",
        "iep_curve = regressor.fit(x, z, fx)\n",
        "w_1_mse, w_2_mse = regressor.get_weights()\n",
        "print(w_1_mse, w_2_mse)\n",
        "# plt.plot(iep_curve)\n",
        "fx_predicted = w_2_mse * x ** 2 + w_1_mse * x\n",
        "plt.plot(x, fx, 'g-', label='True Model', linewidth=2)\n",
        "plt.plot(x, fx_predicted, 'r-', label='Predicted Model', linewidth=2)\n",
        "plt.plot(x, z, 'k-', label='Noisy Samples')\n",
        "\n",
        "# plot.show("
      ]
    },
    {
      "cell_type": "code",
      "source": [],
      "metadata": {
        "colab": {
          "base_uri": "https://localhost:8080/",
          "height": 447
        },
        "id": "pxMSLhecRvIa",
        "outputId": "cda40cf4-35ab-44d0-a0e5-23a5af7126e1"
      },
      "execution_count": 123,
      "outputs": [
        {
          "output_type": "execute_result",
          "data": {
            "text/plain": [
              "[<matplotlib.lines.Line2D at 0x2092e429310>]"
            ]
          },
          "metadata": {},
          "execution_count": 123
        },
        {
          "output_type": "display_data",
          "data": {
            "text/plain": [
              "<Figure size 640x480 with 1 Axes>"
            ],
            "image/png": "[encoded data removed]"
          },
          "metadata": {}
        }
      ]
    },
    {
      "cell_type": "code",
      "execution_count": null,
      "metadata": {
        "id": "zhrn0xJOI1gv"
      },
      "outputs": [],
      "source": [
        "# Adjusted weights\n",
        "print(\"Case 1 with MSE:\")\n",
        "print(\"True parameter a = %d. Adjusted parameter W2 = %1.4f. Deviation %1.2f%%.\" % (\n",
        "    a, w_2_mse, 100 * np.abs((w_2_mse - a) / a)))\n",
        "print(\"True parameter b = %d. Adjusted parameter W1 = %1.4f. Deviation %1.2f%%.\" % (\n",
        "    b, w_1_mse, 100 * np.abs((w_1_mse - b) / b)))"
      ]
    },
    {
      "cell_type": "code",
      "execution_count": null,
      "metadata": {
        "id": "SLxJ0KhQI1gv"
      },
      "outputs": [],
      "source": [
        "# Fitting visualization\n",
        "fig, ax = plt.subplots(1, 1, figsize=(6, 3), dpi=100)\n",
        "ax.plot(x, fx, 'g-', label='True Model', linewidth=2)\n",
        "ax.plot(x, z, 'k.', label='Noisy Samples')\n",
        "output_mse = w_2_mse * x ** 2 + w_1_mse * x\n",
        "ax.plot(x, output_mse, label='MSE', linewidth=3, alpha=.5)\n",
        "ax.set_xlabel('x')\n",
        "ax.set_ylabel('z')\n",
        "ax.grid()\n",
        "ax.legend(loc='upper left', bbox_to_anchor=(1, 1))\n",
        "ax.set_title(\"z(x) using a=%s, b=%s and c=%s\" % (a, b, c))\n",
        "plt.show()"
      ]
    },
    {
      "cell_type": "code",
      "execution_count": null,
      "metadata": {
        "id": "-obtuaTCI1gw"
      },
      "outputs": [],
      "source": [
        "# --- Your plot of IEP evolution goes here ---\n"
      ]
    },
    {
      "cell_type": "markdown",
      "metadata": {
        "id": "DhId62HDI1gx"
      },
      "source": [
        "<h2>Regresor con criterio MEE</h2>\n",
        "\n",
        "Ahora implemente el regresor usando MEE como función de costo y gradiente descendente como optimizador, evaluando todas las muestras disponibles en cada iteración. Para inicializar los pesos $w$, primero entrene usando MSE por un cierto número de iteraciones a partir de pesos inicializados uniformemente en el intervalo (0,1). A partir de estos pesos pre-entrenados, siga entrenando usando MEE por otro número dado de iteraciones. Note que el regresor basado en MEE también requiere la especificación del ancho de banda del kernel Gaussiano $\\sigma$.\n",
        "\n",
        "Las instrucciones de programación son las mismas que para el caso de MSE, a excepción del nombre de la clase que esta vez debe ser \"QuadraticModelMEE_Case1\".\n",
        "\n",
        "Implemente su modelo en la siguiente celda. Sea ordenado y claro en su código. Comente adecuadamente. Elija nombres significativos para sus variables."
      ]
    },
    {
      "cell_type": "code",
      "execution_count": null,
      "metadata": {
        "id": "k5sjLbUxI1gx"
      },
      "outputs": [],
      "source": [
        "class QuadraticModelMEE_Case1():\n",
        "    def __init__(\n",
        "        self,\n",
        "        learning_rate_mse, n_iterations_mse,\n",
        "        learning_rate_mee, n_iterations_mee,\n",
        "        kernel_width\n",
        "    ):\n",
        "        self.learning_rate_mse = learning_rate_mse\n",
        "        self.n_iterations_mse = n_iterations_mse\n",
        "        self.learning_rate_mee = learning_rate_mee\n",
        "        self.n_iterations_mee = n_iterations_mee\n",
        "        self.kernel_width = kernel_width\n",
        "\n",
        "        # Weights initialized from Uniform(0, 1), random but reproducible\n",
        "        self.w1 = np.random.RandomState(seed=1).rand()\n",
        "        self.w2 = np.random.RandomState(seed=2).rand()\n",
        "\n",
        "        # --- Your code goes here ---\n",
        "\n",
        "    def fit(self, x, z, fx):\n",
        "        # --- Your code goes here ---\n",
        "        iep_curve = None\n",
        "        return iep_curve\n",
        "\n",
        "    def get_weights(self):\n",
        "        return self.w1, self.w2"
      ]
    },
    {
      "cell_type": "markdown",
      "metadata": {
        "id": "Cs-GVvraI1gy"
      },
      "source": [
        "Con su modelo ya implementado, es hora de entrenar. Para ello, primero entrene con MSE por 200 iteraciones con tasa de aprendizaje 0.02. Después, proceda a entrenar con MEE por 800 iteraciones con tasa de aprendizaje 1.0. Luego de entrenar su modelo, se reporta:\n",
        "- Los valores de los parámetros ajustados $w^*_{MEE}$, y su desviación porcentual con respecto a los parámetros intrínsecos del sistema.\n",
        "- El ajuste $g(x;w^*_{MEE})$ vs $x$ obtenido por el regresor comparado con las observaciones y el modelo real.\n",
        "- Evolución del error intrínseco (IEP).\n",
        "\n",
        "Reporte estos resultados para los anchos de banda $\\sigma\\in\\{0.2,\\ 2,\\ 20\\}$."
      ]
    },
    {
      "cell_type": "code",
      "execution_count": null,
      "metadata": {
        "id": "aUcR5QaJI1gy"
      },
      "outputs": [],
      "source": [
        "kernel_width_grid = [0.2, 2, 20]\n",
        "iep_curve_list = []\n",
        "w_1_mee_list = []\n",
        "w_2_mee_list = []\n",
        "for kernel_width in kernel_width_grid:\n",
        "    regressor = QuadraticModelMEE_Case1(0.02, 200, 1.0, 800, kernel_width)\n",
        "    iep_curve = regressor.fit(x, z, fx)\n",
        "    w_1_mee, w_2_mee = regressor.get_weights()\n",
        "    # Save results for reports\n",
        "    iep_curve_list.append(iep_curve)\n",
        "    w_1_mee_list.append(w_1_mee)\n",
        "    w_2_mee_list.append(w_2_mee)"
      ]
    },
    {
      "cell_type": "code",
      "execution_count": null,
      "metadata": {
        "id": "5B6BTpzfI1gy"
      },
      "outputs": [],
      "source": [
        "# Adjusted weights\n",
        "for w_1_mee, w_2_mee, kernel_width in zip(w_1_mee_list, w_2_mee_list, kernel_width_grid):\n",
        "    print(\"\\nCase 1 with MEE and kernel width %1.1f:\" % kernel_width)\n",
        "    print(\"True parameter a = %d. Adjusted parameter W2 = %1.4f. Deviation %1.2f%%.\" % (\n",
        "        a, w_2_mee, 100 * np.abs((w_2_mee - a) / a)))\n",
        "    print(\"True parameter b = %d. Adjusted parameter W1 = %1.4f. Deviation %1.2f%%.\" % (\n",
        "        b, w_1_mee, 100 * np.abs((w_1_mee - b) / b)))"
      ]
    },
    {
      "cell_type": "code",
      "execution_count": null,
      "metadata": {
        "id": "0qFe6gejI1gz"
      },
      "outputs": [],
      "source": [
        "# Fitting visualization\n",
        "fig, ax = plt.subplots(1, 1, figsize=(6, 3), dpi=100)\n",
        "ax.plot(x, fx, 'g-', label='True Model', linewidth=2)\n",
        "ax.plot(x, z, 'k.', label='Noisy Samples')\n",
        "for w_1_mee, w_2_mee, kernel_width in zip(w_1_mee_list, w_2_mee_list, kernel_width_grid):\n",
        "    output_mee = w_2_mee * x ** 2 + w_1_mee * x\n",
        "    ax.plot(x, output_mee, label=r'MEE ($\\sigma$ = %1.1f)' % kernel_width, linewidth=3, alpha=.5)\n",
        "ax.set_xlabel('x')\n",
        "ax.set_ylabel('z')\n",
        "ax.grid()\n",
        "ax.legend(loc='upper left', bbox_to_anchor=(1, 1))\n",
        "ax.set_title(\"z(x) using a=%s, b=%s and c=%s\" % (a, b, c))\n",
        "plt.show()"
      ]
    },
    {
      "cell_type": "code",
      "execution_count": null,
      "metadata": {
        "id": "F1tIgjsxI1gz"
      },
      "outputs": [],
      "source": [
        "# --- Your plot of IEP evolution goes here ---\n"
      ]
    },
    {
      "cell_type": "markdown",
      "metadata": {
        "id": "1RWysYf2I1g0"
      },
      "source": [
        "<h2>PDF del error intrínseco</h2>\n",
        "\n",
        "A continuación se muestra la PDF del error intrínseco de cada regresor entrenado, ajustada a partir de las muestras usando KDE."
      ]
    },
    {
      "cell_type": "code",
      "execution_count": null,
      "metadata": {
        "id": "JdlWU2GaI1g1"
      },
      "outputs": [],
      "source": [
        "kde = KernelDensity(kernel='gaussian', bandwidth=0.2)\n",
        "fig, ax = plt.subplots(1, 1, figsize=(6, 3), dpi=100)\n",
        "x_plot = np.linspace(-10, 10, 1000)[:, np.newaxis]\n",
        "# Adjust KDE for MSE\n",
        "output_mse = w_2_mse * x ** 2 + w_1_mse * x\n",
        "intrinsic_error = fx - output_mse\n",
        "kde.fit(intrinsic_error[:, np.newaxis])\n",
        "ax.plot(x_plot, np.exp(kde.score_samples(x_plot)), label='MSE', linewidth=4, alpha=.5)\n",
        "# Adjust KDE for MEE\n",
        "for w_1_mee, w_2_mee, kernel_width in zip(w_1_mee_list, w_2_mee_list, kernel_width_grid):\n",
        "    output_mee = w_2_mee * x ** 2 + w_1_mee * x\n",
        "    intrinsic_error = fx - output_mee\n",
        "    kde.fit(intrinsic_error[:, np.newaxis])\n",
        "    ax.plot(x_plot, np.exp(kde.score_samples(x_plot)),\n",
        "            label=r'MEE ($\\sigma$ = %1.1f)' % kernel_width, linewidth=3, alpha=.5)\n",
        "ax.set_xlabel('Intrinsic error')\n",
        "ax.set_ylabel('PDF of the error');\n",
        "ax.set_title(\"Comparison of PDFs obtained by different regressors\")\n",
        "ax.grid()\n",
        "ax.legend(loc=\"upper left\", bbox_to_anchor=(1, 1))\n",
        "plt.show()"
      ]
    },
    {
      "cell_type": "markdown",
      "metadata": {
        "id": "Sbb6-6oeI1g2"
      },
      "source": [
        "<h2>Preguntas del Caso 1</h2>"
      ]
    },
    {
      "cell_type": "markdown",
      "metadata": {
        "id": "-tMId2gzI1g2"
      },
      "source": [
        "- Siendo $E$ el error, relacione matemáticamente el potencial de información y la esperanza de la PDF del error $\\mathbb{E}[p_E(E)]$. Para ello, primero exprese la entropía cuadrática $H_2(E)=-\\log\\left(\\int p_E(e)^2\\mathrm{d}e \\right)$ en términos de la esperanza de la PDF del error. Después, exprese $H_2(E)$ en términos del potencial de información, y concluya.\n",
        "\n",
        "<font color='red'>Respuesta:</font> Lorem ipsum."
      ]
    },
    {
      "cell_type": "markdown",
      "metadata": {
        "id": "E7Ci_v6II1g3"
      },
      "source": [
        "- Basado en su expresión anterior, muestre gráficamente lo que implica minimizar y maximizar el potencial de información en la PDF del error. Compare con el criterio de mínimo MSE. ¿En qué casos el criterio de mínima entropía es superior al mínimo MSE? ¿Por qué?\n",
        "\n",
        "<font color='red'>Respuesta:</font> Lorem ipsum."
      ]
    },
    {
      "cell_type": "markdown",
      "metadata": {
        "id": "LNLfSO7HI1g3"
      },
      "source": [
        "- ¿Con cuál valor de $\\sigma$ se obtiene un mejor desempeño en MEE (mínimo error intrínseco al final del entrenamiento)? ¿Cuál es el rol del ancho de banda? ¿Qué criterios existen para seleccionar este parámetro? Justifique sus respuesta basándose en la teoría.\n",
        "\n",
        "<font color='red'>Respuesta:</font> Lorem ipsum."
      ]
    },
    {
      "cell_type": "markdown",
      "metadata": {
        "id": "dMPnsg0-I1g3"
      },
      "source": [
        "- Compare el mejor regresor MEE con el regresor MSE en términos de la evolución del error intrínseco, parámetros obtenidos y calidad del regresor. ¿Cuál regresor es más robusto al ruido impulsivo de este problema? Explique por qué.\n",
        "\n",
        "<font color='red'>Respuesta:</font> Lorem ipsum."
      ]
    },
    {
      "cell_type": "markdown",
      "metadata": {
        "id": "NJ0J3avwI1g3"
      },
      "source": [
        "- Comente sobre las diferencias observadas en las gráficas de la PDF del error intrínseco para el regresor MSE y el mejor regresor MEE, justificando según la teoría.\n",
        "\n",
        "<font color='red'>Respuesta:</font> Lorem ipsum."
      ]
    },
    {
      "cell_type": "markdown",
      "metadata": {
        "id": "ghB5N_6YI1g3"
      },
      "source": [
        "<h2>Caso 2: Modelo con término constante</h2>\n",
        "\n",
        "Considere ahora el modelo dado por $a=-2$, $b=10$ y $c=5$. Note la inclusión de un término constante no nulo. Para este modelo, considere ahora el siguiente aproximador paramétrico\n",
        "$$ g(x;w) = w_2x^2 + w_1x + w_0.$$\n",
        "Es decir, el regresor tiene tres parámetros, $w_2$, $w_1$ y $w_0$, que buscan ajustar $a$, $b$ y $c$, respectivamente.\n",
        "\n",
        "A continuación, se generan $N=100$ muestras de $z$."
      ]
    },
    {
      "cell_type": "code",
      "execution_count": null,
      "metadata": {
        "id": "lK1mxqFEI1g4"
      },
      "outputs": [],
      "source": [
        "# Parameters of the quadratic model\n",
        "a = -2\n",
        "b = 10\n",
        "c = 5\n",
        "# Sample generation (Random but reproducible)\n",
        "N = 100\n",
        "x = np.linspace(-2.0, 2.0, num=N)\n",
        "fx = a * x ** 2 + b * x + c\n",
        "noise = 0.1 * np.random.RandomState(seed=0).randn(N,)\n",
        "noise[np.random.RandomState(seed=0).rand(N,) > 0.8] += 10.0\n",
        "z = fx + noise\n",
        "# Visualization\n",
        "fig, ax = plt.subplots(1, 1, figsize=(6, 3), dpi=100)\n",
        "ax.plot(x, fx, 'g-', label='True Model', linewidth=2)\n",
        "ax.plot(x, z, 'k.', label='Noisy Samples')\n",
        "ax.set_xlabel('x')\n",
        "ax.set_ylabel('z')\n",
        "ax.grid()\n",
        "ax.legend(loc='upper left', bbox_to_anchor=(1, 1))\n",
        "ax.set_title(\"z(x) using a=%s, b=%s and c=%s\" % (a, b, c))\n",
        "plt.show()"
      ]
    },
    {
      "cell_type": "markdown",
      "metadata": {
        "id": "eg5OHvZYI1g4"
      },
      "source": [
        "<h2>Regresor con criterio MSE</h2>\n",
        "\n",
        "Implemente un regresor MSE para el caso 2 en la clase \"QuadraticModelMSE_Case2\" usando las mismas instrucciones que para el caso 1. Note que ahora el regresor debe ajustar tres parámetros en lugar de dos.\n"
      ]
    },
    {
      "cell_type": "code",
      "execution_count": null,
      "metadata": {
        "id": "LY1B4Qs-I1g4"
      },
      "outputs": [],
      "source": [
        "class QuadraticModelMSE_Case2():\n",
        "    def __init__(self, learning_rate, n_iterations):\n",
        "        self.learning_rate = learning_rate\n",
        "        self.n_iterations = n_iterations\n",
        "\n",
        "        # Weights initialized from Uniform(0, 1), random but reproducible\n",
        "        self.w0 = np.random.RandomState(seed=0).rand()\n",
        "        self.w1 = np.random.RandomState(seed=1).rand()\n",
        "        self.w2 = np.random.RandomState(seed=2).rand()\n",
        "\n",
        "        # --- Your code goes here ---\n",
        "\n",
        "    def fit(self, x, z, fx):\n",
        "        # --- Your code goes here ---\n",
        "        iep_curve = None\n",
        "        return iep_curve\n",
        "\n",
        "    def get_weights(self):\n",
        "        return self.w0, self.w1, self.w2"
      ]
    },
    {
      "cell_type": "code",
      "execution_count": null,
      "metadata": {
        "id": "uM4VZi0bI1g5"
      },
      "outputs": [],
      "source": [
        "regressor = QuadraticModelMSE_Case2(0.02, 1000)\n",
        "iep_curve = regressor.fit(x, z, fx)\n",
        "w_0_mse, w_1_mse, w_2_mse = regressor.get_weights()"
      ]
    },
    {
      "cell_type": "code",
      "execution_count": null,
      "metadata": {
        "id": "yVBdoyO3I1g6"
      },
      "outputs": [],
      "source": [
        "# Adjusted weights\n",
        "print(\"Case 2 with MSE:\")\n",
        "print(\"True parameter a = %d. Adjusted parameter W2 = %1.4f. Deviation %1.2f%%.\" % (\n",
        "    a, w_2_mse, 100 * np.abs((w_2_mse - a) / a)))\n",
        "print(\"True parameter b = %d. Adjusted parameter W1 = %1.4f. Deviation %1.2f%%.\" % (\n",
        "    b, w_1_mse, 100 * np.abs((w_1_mse - b) / b)))\n",
        "print(\"True parameter c = %d. Adjusted parameter W0 = %1.4f. Deviation %1.2f%%.\" % (\n",
        "    c, w_0_mse, 100 * np.abs((w_0_mse - c) / c)))"
      ]
    },
    {
      "cell_type": "code",
      "execution_count": null,
      "metadata": {
        "id": "R9yBmnkEI1g6"
      },
      "outputs": [],
      "source": [
        "# Fitting visualization\n",
        "fig, ax = plt.subplots(1, 1, figsize=(6, 3), dpi=100)\n",
        "ax.plot(x, fx, 'g-', label='True Model', linewidth=2)\n",
        "ax.plot(x, z, 'k.', label='Noisy Samples')\n",
        "output_mse = w_2_mse * x ** 2 + w_1_mse * x + w_0_mse\n",
        "ax.plot(x, output_mse, label='MSE', linewidth=3, alpha=.5)\n",
        "ax.set_xlabel('x')\n",
        "ax.set_ylabel('z')\n",
        "ax.grid()\n",
        "ax.legend(loc='upper left', bbox_to_anchor=(1, 1))\n",
        "ax.set_title(\"z(x) using a=%s, b=%s and c=%s\" % (a, b, c))\n",
        "plt.show()"
      ]
    },
    {
      "cell_type": "code",
      "execution_count": null,
      "metadata": {
        "id": "Vgq8eTdjI1g7"
      },
      "outputs": [],
      "source": [
        "# --- Your plot of IEP evolution goes here ---\n"
      ]
    },
    {
      "cell_type": "markdown",
      "metadata": {
        "id": "EFt1bZnyI1g7"
      },
      "source": [
        "<h2>Regresor con criterio MEE</h2>\n",
        "\n",
        "Implemente un regresor MEE para el caso 2 en la clase \"QuadraticModelMEE_Case2\" usando las mismas instrucciones que para el caso 1. Por simplicidad, solo utilice el mejor ancho de banda encontrado en el caso 1. El criterio MEE no permite ajustar $w_0$. Compense manualmente este parámetro a lo largo del entrenamiento."
      ]
    },
    {
      "cell_type": "code",
      "execution_count": null,
      "metadata": {
        "id": "vVQ9mUEUI1g7"
      },
      "outputs": [],
      "source": [
        "class QuadraticModelMEE_Case2():\n",
        "    def __init__(\n",
        "        self,\n",
        "        learning_rate_mse, n_iterations_mse,\n",
        "        learning_rate_mee, n_iterations_mee,\n",
        "        kernel_width\n",
        "    ):\n",
        "        self.learning_rate_mse = learning_rate_mse\n",
        "        self.n_iterations_mse = n_iterations_mse\n",
        "        self.learning_rate_mee = learning_rate_mee\n",
        "        self.n_iterations_mee = n_iterations_mee\n",
        "        self.kernel_width = kernel_width\n",
        "\n",
        "        # Weights initialized from Uniform(0, 1), random but reproducible\n",
        "        self.w0 = np.random.RandomState(seed=0).rand()\n",
        "        self.w1 = np.random.RandomState(seed=1).rand()\n",
        "        self.w2 = np.random.RandomState(seed=2).rand()\n",
        "\n",
        "        # --- Your code goes here ---\n",
        "\n",
        "    def fit(self, x, z, fx):\n",
        "        # --- Your code goes here ---\n",
        "        iep_curve = None\n",
        "        return iep_curve\n",
        "\n",
        "    def get_weights(self):\n",
        "        return self.w0, self.w1, self.w2"
      ]
    },
    {
      "cell_type": "code",
      "execution_count": null,
      "metadata": {
        "id": "mdgfuA7AI1hB"
      },
      "outputs": [],
      "source": [
        "best_kernel_width = 1000\n",
        "regressor = QuadraticModelMEE_Case2(0.02, 200, 1.0, 800, best_kernel_width)\n",
        "iep_curve = regressor.fit(x, z, fx)\n",
        "w_0_mee, w_1_mee, w_2_mee = regressor.get_weights()"
      ]
    },
    {
      "cell_type": "code",
      "execution_count": null,
      "metadata": {
        "id": "UEU2R_IbI1hB"
      },
      "outputs": [],
      "source": [
        "# Adjusted weights\n",
        "print(\"Case 2 with MEE and kernel width %1.1f:\" % best_kernel_width)\n",
        "print(\"True parameter a = %d. Adjusted parameter W2 = %1.4f. Deviation %1.2f%%.\" % (\n",
        "    a, w_2_mee, 100 * np.abs((w_2_mee - a) / a)))\n",
        "print(\"True parameter b = %d. Adjusted parameter W1 = %1.4f. Deviation %1.2f%%.\" % (\n",
        "    b, w_1_mee, 100 * np.abs((w_1_mee - b) / b)))\n",
        "print(\"True parameter c = %d. Adjusted parameter W0 = %1.4f. Deviation %1.2f%%.\" % (\n",
        "    c, w_0_mee, 100 * np.abs((w_0_mee - c) / c)))"
      ]
    },
    {
      "cell_type": "code",
      "execution_count": null,
      "metadata": {
        "id": "lePs8lUKI1hB"
      },
      "outputs": [],
      "source": [
        "# Fitting visualization\n",
        "fig, ax = plt.subplots(1, 1, figsize=(6, 3), dpi=100)\n",
        "ax.plot(x, fx, 'g-', label='True Model', linewidth=2)\n",
        "ax.plot(x, z, 'k.', label='Noisy Samples')\n",
        "output_mee = w_2_mee * x ** 2 + w_1_mee * x + w_0_mee\n",
        "ax.plot(x, output_mee, label='MEE', linewidth=3, alpha=.5)\n",
        "ax.set_xlabel('x')\n",
        "ax.set_ylabel('z')\n",
        "ax.grid()\n",
        "ax.legend(loc='upper left', bbox_to_anchor=(1, 1))\n",
        "ax.set_title(\"z(x) using a=%s, b=%s and c=%s\" % (a, b, c))\n",
        "plt.show()"
      ]
    },
    {
      "cell_type": "code",
      "execution_count": null,
      "metadata": {
        "id": "5bSnNUqBI1hB"
      },
      "outputs": [],
      "source": [
        "# --- Your plot of IEP evolution goes here ---\n"
      ]
    },
    {
      "cell_type": "markdown",
      "metadata": {
        "id": "kdNWGIz4I1hB"
      },
      "source": [
        "<h2>PDF del error intrínseco</h2>\n",
        "\n",
        "A continuación se muestra la PDF del error intrínseco de cada regresor entrenado, ajustada a partir de las muestras usando KDE."
      ]
    },
    {
      "cell_type": "code",
      "execution_count": null,
      "metadata": {
        "id": "Qz9wuRQaI1hC"
      },
      "outputs": [],
      "source": [
        "kde = KernelDensity(kernel='gaussian', bandwidth=0.2)\n",
        "fig, ax = plt.subplots(1, 1, figsize=(6, 3), dpi=100)\n",
        "x_plot = np.linspace(-10, 10, 1000)[:, np.newaxis]\n",
        "# Adjust KDE for MSE\n",
        "output_mse = w_2_mse * x ** 2 + w_1_mse * x + w_0_mse\n",
        "intrinsic_error = fx - output_mse\n",
        "kde.fit(intrinsic_error[:, np.newaxis])\n",
        "ax.plot(x_plot, np.exp(kde.score_samples(x_plot)), label='MSE', linewidth=4, alpha=.5)\n",
        "# Adjust KDE for MEE\n",
        "output_mee = w_2_mee * x ** 2 + w_1_mee * x + w_0_mee\n",
        "intrinsic_error = fx - output_mee\n",
        "kde.fit(intrinsic_error[:, np.newaxis])\n",
        "ax.plot(x_plot, np.exp(kde.score_samples(x_plot)), label=\"MEE\", linewidth=3, alpha=.5)\n",
        "ax.set_xlabel('Intrinsic error')\n",
        "ax.set_ylabel('PDF of the error');\n",
        "ax.set_title(\"Comparison of PDFs obtained by different regressors\")\n",
        "ax.grid()\n",
        "ax.legend(loc=\"upper left\", bbox_to_anchor=(1, 1))\n",
        "plt.show()"
      ]
    },
    {
      "cell_type": "markdown",
      "metadata": {
        "id": "1_LvSSFFI1hC"
      },
      "source": [
        "<h2>Preguntas del Caso 2</h2>"
      ]
    },
    {
      "cell_type": "markdown",
      "metadata": {
        "id": "cTRsiSQrI1hC"
      },
      "source": [
        "- Calcule la derivada respecto a $w_0$, $w_1$ y $w_2$ del potencial de información.\n",
        "\n",
        "<font color='red'>Respuesta:</font> Lorem ipsum."
      ]
    },
    {
      "cell_type": "markdown",
      "metadata": {
        "id": "rFHJjlruI1hC"
      },
      "source": [
        "- Explique por qué el criterio MEE no permite ajustar por sí solo el parámetro asociado al término constante mientras que el criterio MSE sí. ¿Qué ocurre si no se compensa este parámetro? ¿De qué forma se compensa?\n",
        "\n",
        "<font color='red'>Respuesta:</font> Lorem ipsum."
      ]
    }
  ],
  "metadata": {
    "kernelspec": {
      "display_name": "Python 3 (ipykernel)",
      "language": "python",
      "name": "python3"
    },
    "language_info": {
      "codemirror_mode": {
        "name": "ipython",
        "version": 3
      },
      "file_extension": ".py",
      "mimetype": "text/x-python",
      "name": "python",
      "nbconvert_exporter": "python",
      "pygments_lexer": "ipython3",
      "version": "3.9.12"
    },
    "colab": {
      "provenance": [],
      "include_colab_link": true
    }
  },
  "nbformat": 4,
  "nbformat_minor": 0
}